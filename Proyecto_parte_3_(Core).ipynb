{
  "nbformat": 4,
  "nbformat_minor": 0,
  "metadata": {
    "colab": {
      "provenance": []
    },
    "kernelspec": {
      "name": "python3",
      "display_name": "Python 3"
    },
    "language_info": {
      "name": "python"
    }
  },
  "cells": [
    {
      "cell_type": "markdown",
      "source": [
        "1. Transformación de Datos\n",
        "* Crea nuevas columnas: Basándonos en los datos existentes, crea nuevas columnas que sean útiles para el análisis. Por ejemplo, calcula el * ingreso total por venta y normaliza las ventas.\n",
        "* Clasifica los datos: Crea una columna que clasifique las ventas en categorías significativas (e.g., ‘Alta’, ‘Media’, ‘Baja’).\n",
        "2. Agrupación y Agregación\n",
        "* Agrupación por múltiples columnas: Realiza agrupaciones por categorías como producto y tienda, producto y mes, etc.\n",
        "* Aplicar funciones de agregación: Utiliza funciones como sum, mean, count, min, max, std, y var para obtener estadísticas descriptivas de cada grupo.\n",
        "3. Análisis Personalizado con apply\n",
        "* Función personalizada: Aplica funciones personalizadas para realizar análisis específicos que no se pueden lograr con las funciones de agregación estándar.\n",
        "* Ejemplo de uso avanzado: Calcula la desviación de cada venta respecto a la media de su grupo.\n",
        "4. Documentación\n",
        "* Comentarios claros: Documenta claramente cada paso del análisis, explicando qué se hizo y por qué se hizo.\n",
        "* Código legible: Asegúrate de que el código sea legible y esté bien comentado."
      ],
      "metadata": {
        "id": "0FgoA6uTqRM5"
      }
    },
    {
      "cell_type": "code",
      "source": [
        "import pandas as pd\n",
        "import numpy as np"
      ],
      "metadata": {
        "id": "qda9XblhqTXS"
      },
      "execution_count": 1,
      "outputs": []
    },
    {
      "cell_type": "code",
      "source": [
        "import pandas as pd\n",
        "\n",
        "# Ruta del archivo CSV en Google Drive\n",
        "# Cambiar el enlace a formato de descarga directa\n",
        "ruta_archivo = 'https://drive.google.com/uc?id=1d1r6n5uy4YqPLKZmDjno27FhLMaYD363'\n",
        "\n",
        "# Cargar el archivo CSV en un DataFrame\n",
        "df = pd.read_csv(ruta_archivo)\n",
        "\n",
        "\n"
      ],
      "metadata": {
        "id": "8UxBwT0cqYfg"
      },
      "execution_count": 16,
      "outputs": []
    },
    {
      "cell_type": "markdown",
      "source": [
        "1. Transformación de Datos\n",
        "* Crea nuevas columnas: Basándonos en los datos existentes, crea nuevas columnas que sean útiles para el análisis. Por ejemplo, calcula el ingreso total por venta y normaliza las ventas."
      ],
      "metadata": {
        "id": "2zAgSQvgtDJW"
      }
    },
    {
      "cell_type": "code",
      "source": [
        "df['Total Sales'] = df['Quantity'] * df['Price per Unit']"
      ],
      "metadata": {
        "id": "kJODosRKtD8x"
      },
      "execution_count": 17,
      "outputs": []
    },
    {
      "cell_type": "code",
      "source": [
        "df['Normalized Sales'] = (df['Total Sales'] - df['Total Sales'].min()) / (df['Total Sales'].max() - df['Total Sales'].min())\n",
        "print(df[['Total Sales', 'Normalized Sales']].head())"
      ],
      "metadata": {
        "colab": {
          "base_uri": "https://localhost:8080/"
        },
        "id": "62KQ0PI2tLNs",
        "outputId": "adf3c346-b2a7-4541-b14b-effa29a0e385"
      },
      "execution_count": 18,
      "outputs": [
        {
          "output_type": "stream",
          "name": "stdout",
          "text": [
            "   Total Sales  Normalized Sales\n",
            "0          150          0.063291\n",
            "1         1000          0.493671\n",
            "2           30          0.002532\n",
            "3          500          0.240506\n",
            "4          100          0.037975\n"
          ]
        }
      ]
    },
    {
      "cell_type": "markdown",
      "source": [
        "Clasifica los datos: Crea una columna que clasifique las ventas en categorías significativas (e.g., ‘Alta’, ‘Media’, ‘Baja’)."
      ],
      "metadata": {
        "id": "odwRBhPozBwH"
      }
    },
    {
      "cell_type": "code",
      "source": [
        "# Función para clasificar las ventas en 'Alta', 'Media', 'Baja' según los cuartiles\n",
        "def classify_sales(sales):\n",
        "    if sales >= df['Total Sales'].quantile(0.75):\n",
        "        return 'Alta'\n",
        "    elif sales >= df['Total Sales'].quantile(0.25):\n",
        "        return 'Media'\n",
        "    else:\n",
        "        return 'Baja'"
      ],
      "metadata": {
        "id": "ujhyaStDzCtQ"
      },
      "execution_count": 19,
      "outputs": []
    },
    {
      "cell_type": "code",
      "source": [
        "# Crear nueva columna con la clasificación de ventas\n",
        "df['Sales Category'] = df['Total Sales'].apply(classify_sales)\n",
        "\n",
        "# Mostrar las primeras filas para verificar\n",
        "print(df[['Total Sales', 'Sales Category']].head())"
      ],
      "metadata": {
        "colab": {
          "base_uri": "https://localhost:8080/"
        },
        "id": "Zo8xABNCzHeg",
        "outputId": "1e8562eb-f964-4342-a1a0-d78b284a23b8"
      },
      "execution_count": 20,
      "outputs": [
        {
          "output_type": "stream",
          "name": "stdout",
          "text": [
            "   Total Sales Sales Category\n",
            "0          150          Media\n",
            "1         1000           Alta\n",
            "2           30           Baja\n",
            "3          500          Media\n",
            "4          100          Media\n"
          ]
        }
      ]
    },
    {
      "cell_type": "markdown",
      "source": [
        "2. Agrupación y Agregación\n",
        "Agrupación por múltiples columnas: Realiza agrupaciones por categorías como producto y tienda, producto y mes, etc."
      ],
      "metadata": {
        "id": "lAqaGgswzKqW"
      }
    },
    {
      "cell_type": "code",
      "source": [
        "# Convertir la columna de fechas a formato datetime\n",
        "df['Date'] = pd.to_datetime(df['Date'])\n",
        "\n",
        "# Extraer el mes de la fecha\n",
        "df['Month'] = df['Date'].dt.to_period('M')\n",
        "\n",
        "# Agrupar por 'Product Category' y 'Month'\n",
        "grouped_df = df.groupby(['Product Category', 'Month'])\n",
        "\n",
        "# Mostrar la cantidad de elementos en cada grupo\n",
        "print(grouped_df.size().head())"
      ],
      "metadata": {
        "colab": {
          "base_uri": "https://localhost:8080/"
        },
        "id": "8asin1rfzSS8",
        "outputId": "89c0110b-c5da-4af2-b8b8-111a7a3e264f"
      },
      "execution_count": 21,
      "outputs": [
        {
          "output_type": "stream",
          "name": "stdout",
          "text": [
            "Product Category  Month  \n",
            "Beauty            2023-01    25\n",
            "                  2023-02    26\n",
            "                  2023-03    21\n",
            "                  2023-04    29\n",
            "                  2023-05    28\n",
            "dtype: int64\n"
          ]
        }
      ]
    },
    {
      "cell_type": "code",
      "source": [
        "# Aplicar funciones de agregación para obtener estadísticas descriptivas por 'Product Category'\n",
        "aggregated_stats = df.groupby('Product Category').agg({\n",
        "    'Quantity': ['sum', 'mean', 'count', 'min', 'max', 'std', 'var'],\n",
        "    'Price per Unit': ['mean', 'min', 'max', 'std', 'var'],\n",
        "    'Total Amount': ['sum', 'mean', 'min', 'max', 'std', 'var']\n",
        "})\n",
        "\n",
        "# Mostrar el resultado de las estadísticas descriptivas\n",
        "print(aggregated_stats)\n",
        "\n",
        "\n"
      ],
      "metadata": {
        "colab": {
          "base_uri": "https://localhost:8080/"
        },
        "id": "1b04LngAzk-t",
        "outputId": "d7a53f3d-77f7-4b0d-ab01-219146a521f7"
      },
      "execution_count": 25,
      "outputs": [
        {
          "output_type": "stream",
          "name": "stdout",
          "text": [
            "                 Quantity                                              \\\n",
            "                      sum      mean count min max       std       var   \n",
            "Product Category                                                        \n",
            "Beauty                771  2.511401   307   1   4  1.100668  1.211471   \n",
            "Clothing              894  2.547009   351   1   4  1.142647  1.305641   \n",
            "Electronics           849  2.482456   342   1   4  1.153084  1.329603   \n",
            "\n",
            "                 Price per Unit                                     \\\n",
            "                           mean min  max         std           var   \n",
            "Product Category                                                     \n",
            "Beauty               184.055375  25  500  194.929399  37997.470780   \n",
            "Clothing             174.287749  25  500  186.017065  34602.348392   \n",
            "Electronics          181.900585  25  500  189.049673  35739.778944   \n",
            "\n",
            "                 Total Amount                                                   \n",
            "                          sum        mean min   max         std            var  \n",
            "Product Category                                                                \n",
            "Beauty                 143515  467.475570  25  2000  563.612788  317659.374401  \n",
            "Clothing               155580  443.247863  25  2000  550.695917  303265.992674  \n",
            "Electronics            156905  458.786550  25  2000  567.540150  322101.822341  \n"
          ]
        }
      ]
    },
    {
      "cell_type": "markdown",
      "source": [
        "Análisis Personalizado con apply\n",
        "Función personalizada: Aplica funciones personalizadas para realizar análisis específicos que no se pueden lograr con las funciones de agregación estándar."
      ],
      "metadata": {
        "id": "4iiHPVcfzdjq"
      }
    },
    {
      "cell_type": "code",
      "source": [
        "# Función personalizada para calcular la desviación respecto a la media de su grupo\n",
        "def deviation_from_mean(x):\n",
        "    return x - x.mean()\n",
        "\n",
        "# Aplicar la función personalizada sobre 'Total Sales' para calcular la desviación de cada venta\n",
        "df['Deviation from Group Mean'] = grouped_df['Total Sales'].transform(deviation_from_mean)\n",
        "\n",
        "# Mostrar las primeras filas para verificar la desviación\n",
        "print(df[['Total Sales', 'Deviation from Group Mean']].head())"
      ],
      "metadata": {
        "colab": {
          "base_uri": "https://localhost:8080/"
        },
        "id": "z8PRiVGi0y9n",
        "outputId": "954b7c0a-92b0-4366-bb83-29a59b709da0"
      },
      "execution_count": 26,
      "outputs": [
        {
          "output_type": "stream",
          "name": "stdout",
          "text": [
            "   Total Sales  Deviation from Group Mean\n",
            "0          150                -238.000000\n",
            "1         1000                 558.787879\n",
            "2           30                -365.800000\n",
            "3          500                  28.243243\n",
            "4          100                -344.642857\n"
          ]
        }
      ]
    }
  ]
}